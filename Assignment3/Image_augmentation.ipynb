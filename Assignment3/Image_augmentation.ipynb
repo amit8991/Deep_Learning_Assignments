{
 "cells": [
  {
   "cell_type": "code",
   "execution_count": 1,
   "metadata": {},
   "outputs": [],
   "source": [
    "import cv2\n",
    "import numpy as np\n",
    "from skimage import io \n",
    "from skimage.transform import rotate, AffineTransform, warp\n",
    "import matplotlib.pyplot as plt\n",
    "import random\n",
    "from skimage import img_as_ubyte\n",
    "import os\n",
    "from skimage.util import random_noise"
   ]
  },
  {
   "cell_type": "code",
   "execution_count": 2,
   "metadata": {},
   "outputs": [],
   "source": [
    "def anticlockwise_rotation(image):\n",
    "    angle= 30\n",
    "    return rotate(image, angle)\n",
    "\n",
    "def clockwise_rotation(image):\n",
    "    angle= 30\n",
    "    return rotate(image, -angle)\n",
    "\n",
    "def h_flip(image):\n",
    "    return  np.fliplr(image)\n",
    "\n",
    "def v_flip(image):\n",
    "    return np.flipud(image)\n",
    "\n",
    "def brightness_increase(image):\n",
    "    image = cv2.cvtColor(image, cv2.COLOR_BGR2HSV)\n",
    "    increase = 50\n",
    "    v = image[:, :, 2]\n",
    "    v = np.where(v <= 255 - increase, v + increase, 255)\n",
    "    image[:, :, 2] = v\n",
    "    image = cv2.cvtColor(image, cv2.COLOR_HSV2BGR)\n",
    "    return image\n",
    "\n",
    "def brightness_decrease(image):\n",
    "    image = cv2.cvtColor(image, cv2.COLOR_BGR2HSV)\n",
    "    increase = -50\n",
    "    v = image[:, :, 2]\n",
    "    v = np.where(v <= 255 - increase, v + increase, 255)\n",
    "    image[:, :, 2] = v\n",
    "    image = cv2.cvtColor(image, cv2.COLOR_HSV2BGR)\n",
    "    return image\n",
    "\n",
    "def blur_image(image):\n",
    "    return cv2.GaussianBlur(image, (9,9),0)\n"
   ]
  },
  {
   "cell_type": "code",
   "execution_count": 10,
   "metadata": {},
   "outputs": [],
   "source": [
    "transformations = {'rotate anticlockwise': anticlockwise_rotation,\n",
    "                      'rotate clockwise': clockwise_rotation,\n",
    "                      'horizontal flip': h_flip, \n",
    "                      'vertical flip': v_flip,\n",
    "                   'brightness increase': brightness_increase,\n",
    "                   'brightness decrease': brightness_decrease,\n",
    "                   'blurring image':blur_image\n",
    "                 }                \n",
    "\n",
    "images_path=\"E:/dataset/train/tshirts\" #path to original images\n",
    "augmented_path=\"E:/dataset/train/resize_tshirts\" # path to store augmented images\n",
    "images=[] \n",
    "\n",
    "for im in os.listdir(images_path):    \n",
    "    images.append(os.path.join(images_path,im))\n",
    "\n",
    "images_to_generate=800  #number of images required\n",
    "i=1                       \n",
    "\n",
    "while i<=images_to_generate:    \n",
    "    image=random.choice(images)\n",
    "    original_image = io.imread(image)\n",
    "    transformed_image=None\n",
    "\n",
    "    n = 0      \n",
    "    transformation_count = random.randint(1, len(transformations))\n",
    "    \n",
    "    while n <= transformation_count:\n",
    "        key = random.choice(list(transformations))\n",
    "        transformed_image = transformations[key](original_image)\n",
    "        n = n + 1\n",
    "        \n",
    "    new_image_path= \"%s/augmented_image_%s.jpg\" %(augmented_path, i)\n",
    "    transformed_image = img_as_ubyte(transformed_image) \n",
    "    transformed_image=cv2.cvtColor(transformed_image, cv2.COLOR_BGR2RGB) \n",
    "    cv2.imwrite(new_image_path, transformed_image) \n",
    "    i =i+1"
   ]
  },
  {
   "cell_type": "code",
   "execution_count": null,
   "metadata": {},
   "outputs": [],
   "source": []
  }
 ],
 "metadata": {
  "kernelspec": {
   "display_name": "Python 3",
   "language": "python",
   "name": "python3"
  },
  "language_info": {
   "codemirror_mode": {
    "name": "ipython",
    "version": 3
   },
   "file_extension": ".py",
   "mimetype": "text/x-python",
   "name": "python",
   "nbconvert_exporter": "python",
   "pygments_lexer": "ipython3",
   "version": "3.7.4"
  }
 },
 "nbformat": 4,
 "nbformat_minor": 2
}
