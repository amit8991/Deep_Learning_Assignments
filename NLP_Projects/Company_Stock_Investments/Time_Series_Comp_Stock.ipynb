{
 "cells": [
  {
   "cell_type": "code",
   "execution_count": 1,
   "metadata": {},
   "outputs": [],
   "source": [
    "import pandas as pd\n",
    "import numpy as np\n",
    "import matplotlib.pyplot as plt\n",
    "import seaborn as sns\n",
    "import warnings\n",
    "warnings.filterwarnings('ignore', category=FutureWarning)"
   ]
  },
  {
   "cell_type": "code",
   "execution_count": 2,
   "metadata": {},
   "outputs": [
    {
     "data": {
      "text/html": [
       "<div>\n",
       "<style scoped>\n",
       "    .dataframe tbody tr th:only-of-type {\n",
       "        vertical-align: middle;\n",
       "    }\n",
       "\n",
       "    .dataframe tbody tr th {\n",
       "        vertical-align: top;\n",
       "    }\n",
       "\n",
       "    .dataframe thead th {\n",
       "        text-align: right;\n",
       "    }\n",
       "</style>\n",
       "<table border=\"1\" class=\"dataframe\">\n",
       "  <thead>\n",
       "    <tr style=\"text-align: right;\">\n",
       "      <th></th>\n",
       "      <th>Date</th>\n",
       "      <th>Oil Investments</th>\n",
       "      <th>Gold Investments</th>\n",
       "      <th>Comp Stock</th>\n",
       "      <th>Other sharesInvestments</th>\n",
       "    </tr>\n",
       "  </thead>\n",
       "  <tbody>\n",
       "    <tr>\n",
       "      <td>0</td>\n",
       "      <td>31-12-2009</td>\n",
       "      <td>0.025417</td>\n",
       "      <td>0.000150</td>\n",
       "      <td>0.017354</td>\n",
       "      <td>0.006848</td>\n",
       "    </tr>\n",
       "    <tr>\n",
       "      <td>1</td>\n",
       "      <td>04-01-2010</td>\n",
       "      <td>0.026830</td>\n",
       "      <td>0.001097</td>\n",
       "      <td>0.015565</td>\n",
       "      <td>-0.004609</td>\n",
       "    </tr>\n",
       "    <tr>\n",
       "      <td>2</td>\n",
       "      <td>05-01-2010</td>\n",
       "      <td>0.002699</td>\n",
       "      <td>0.001560</td>\n",
       "      <td>0.001729</td>\n",
       "      <td>0.005900</td>\n",
       "    </tr>\n",
       "    <tr>\n",
       "      <td>3</td>\n",
       "      <td>06-01-2010</td>\n",
       "      <td>0.021688</td>\n",
       "      <td>0.006009</td>\n",
       "      <td>-0.015906</td>\n",
       "      <td>-0.018116</td>\n",
       "    </tr>\n",
       "    <tr>\n",
       "      <td>4</td>\n",
       "      <td>07-01-2010</td>\n",
       "      <td>-0.006256</td>\n",
       "      <td>0.000221</td>\n",
       "      <td>-0.001849</td>\n",
       "      <td>-0.017013</td>\n",
       "    </tr>\n",
       "    <tr>\n",
       "      <td>...</td>\n",
       "      <td>...</td>\n",
       "      <td>...</td>\n",
       "      <td>...</td>\n",
       "      <td>...</td>\n",
       "      <td>...</td>\n",
       "    </tr>\n",
       "    <tr>\n",
       "      <td>1979</td>\n",
       "      <td>09-11-2017</td>\n",
       "      <td>0.005984</td>\n",
       "      <td>0.000623</td>\n",
       "      <td>-0.002043</td>\n",
       "      <td>-0.003310</td>\n",
       "    </tr>\n",
       "    <tr>\n",
       "      <td>1980</td>\n",
       "      <td>10-11-2017</td>\n",
       "      <td>-0.007173</td>\n",
       "      <td>-0.000389</td>\n",
       "      <td>-0.006880</td>\n",
       "      <td>-0.003348</td>\n",
       "    </tr>\n",
       "    <tr>\n",
       "      <td>1981</td>\n",
       "      <td>13-11-2017</td>\n",
       "      <td>0.000352</td>\n",
       "      <td>-0.004944</td>\n",
       "      <td>-0.004008</td>\n",
       "      <td>0.003395</td>\n",
       "    </tr>\n",
       "    <tr>\n",
       "      <td>1982</td>\n",
       "      <td>14-11-2017</td>\n",
       "      <td>-0.019376</td>\n",
       "      <td>-0.002621</td>\n",
       "      <td>-0.015118</td>\n",
       "      <td>0.006793</td>\n",
       "    </tr>\n",
       "    <tr>\n",
       "      <td>1983</td>\n",
       "      <td>15-11-2017</td>\n",
       "      <td>-0.007006</td>\n",
       "      <td>0.005963</td>\n",
       "      <td>-0.013190</td>\n",
       "      <td>-0.008928</td>\n",
       "    </tr>\n",
       "  </tbody>\n",
       "</table>\n",
       "<p>1984 rows × 5 columns</p>\n",
       "</div>"
      ],
      "text/plain": [
       "            Date  Oil Investments  Gold Investments  Comp Stock  \\\n",
       "0     31-12-2009         0.025417          0.000150    0.017354   \n",
       "1     04-01-2010         0.026830          0.001097    0.015565   \n",
       "2     05-01-2010         0.002699          0.001560    0.001729   \n",
       "3     06-01-2010         0.021688          0.006009   -0.015906   \n",
       "4     07-01-2010        -0.006256          0.000221   -0.001849   \n",
       "...          ...              ...               ...         ...   \n",
       "1979  09-11-2017         0.005984          0.000623   -0.002043   \n",
       "1980  10-11-2017        -0.007173         -0.000389   -0.006880   \n",
       "1981  13-11-2017         0.000352         -0.004944   -0.004008   \n",
       "1982  14-11-2017        -0.019376         -0.002621   -0.015118   \n",
       "1983  15-11-2017        -0.007006          0.005963   -0.013190   \n",
       "\n",
       "      Other sharesInvestments  \n",
       "0                    0.006848  \n",
       "1                   -0.004609  \n",
       "2                    0.005900  \n",
       "3                   -0.018116  \n",
       "4                   -0.017013  \n",
       "...                       ...  \n",
       "1979                -0.003310  \n",
       "1980                -0.003348  \n",
       "1981                 0.003395  \n",
       "1982                 0.006793  \n",
       "1983                -0.008928  \n",
       "\n",
       "[1984 rows x 5 columns]"
      ]
     },
     "execution_count": 2,
     "metadata": {},
     "output_type": "execute_result"
    }
   ],
   "source": [
    "df = pd.read_csv('Company Stock and Investment.csv')\n",
    "df"
   ]
  },
  {
   "cell_type": "code",
   "execution_count": 3,
   "metadata": {},
   "outputs": [
    {
     "data": {
      "text/html": [
       "<div>\n",
       "<style scoped>\n",
       "    .dataframe tbody tr th:only-of-type {\n",
       "        vertical-align: middle;\n",
       "    }\n",
       "\n",
       "    .dataframe tbody tr th {\n",
       "        vertical-align: top;\n",
       "    }\n",
       "\n",
       "    .dataframe thead th {\n",
       "        text-align: right;\n",
       "    }\n",
       "</style>\n",
       "<table border=\"1\" class=\"dataframe\">\n",
       "  <thead>\n",
       "    <tr style=\"text-align: right;\">\n",
       "      <th></th>\n",
       "      <th>Date</th>\n",
       "      <th>Comp Stock</th>\n",
       "    </tr>\n",
       "  </thead>\n",
       "  <tbody>\n",
       "    <tr>\n",
       "      <td>0</td>\n",
       "      <td>31-12-2009</td>\n",
       "      <td>0.017354</td>\n",
       "    </tr>\n",
       "    <tr>\n",
       "      <td>1</td>\n",
       "      <td>04-01-2010</td>\n",
       "      <td>0.015565</td>\n",
       "    </tr>\n",
       "    <tr>\n",
       "      <td>2</td>\n",
       "      <td>05-01-2010</td>\n",
       "      <td>0.001729</td>\n",
       "    </tr>\n",
       "    <tr>\n",
       "      <td>3</td>\n",
       "      <td>06-01-2010</td>\n",
       "      <td>-0.015906</td>\n",
       "    </tr>\n",
       "    <tr>\n",
       "      <td>4</td>\n",
       "      <td>07-01-2010</td>\n",
       "      <td>-0.001849</td>\n",
       "    </tr>\n",
       "    <tr>\n",
       "      <td>...</td>\n",
       "      <td>...</td>\n",
       "      <td>...</td>\n",
       "    </tr>\n",
       "    <tr>\n",
       "      <td>1979</td>\n",
       "      <td>09-11-2017</td>\n",
       "      <td>-0.002043</td>\n",
       "    </tr>\n",
       "    <tr>\n",
       "      <td>1980</td>\n",
       "      <td>10-11-2017</td>\n",
       "      <td>-0.006880</td>\n",
       "    </tr>\n",
       "    <tr>\n",
       "      <td>1981</td>\n",
       "      <td>13-11-2017</td>\n",
       "      <td>-0.004008</td>\n",
       "    </tr>\n",
       "    <tr>\n",
       "      <td>1982</td>\n",
       "      <td>14-11-2017</td>\n",
       "      <td>-0.015118</td>\n",
       "    </tr>\n",
       "    <tr>\n",
       "      <td>1983</td>\n",
       "      <td>15-11-2017</td>\n",
       "      <td>-0.013190</td>\n",
       "    </tr>\n",
       "  </tbody>\n",
       "</table>\n",
       "<p>1984 rows × 2 columns</p>\n",
       "</div>"
      ],
      "text/plain": [
       "            Date  Comp Stock\n",
       "0     31-12-2009    0.017354\n",
       "1     04-01-2010    0.015565\n",
       "2     05-01-2010    0.001729\n",
       "3     06-01-2010   -0.015906\n",
       "4     07-01-2010   -0.001849\n",
       "...          ...         ...\n",
       "1979  09-11-2017   -0.002043\n",
       "1980  10-11-2017   -0.006880\n",
       "1981  13-11-2017   -0.004008\n",
       "1982  14-11-2017   -0.015118\n",
       "1983  15-11-2017   -0.013190\n",
       "\n",
       "[1984 rows x 2 columns]"
      ]
     },
     "execution_count": 3,
     "metadata": {},
     "output_type": "execute_result"
    }
   ],
   "source": [
    "df_comp = df.drop(['Gold Investments','Oil Investments','Other sharesInvestments'],axis=1)\n",
    "df_comp"
   ]
  },
  {
   "cell_type": "code",
   "execution_count": 4,
   "metadata": {},
   "outputs": [
    {
     "data": {
      "text/plain": [
       "Date          0\n",
       "Comp Stock    0\n",
       "dtype: int64"
      ]
     },
     "execution_count": 4,
     "metadata": {},
     "output_type": "execute_result"
    }
   ],
   "source": [
    "df_comp.isnull().sum()"
   ]
  },
  {
   "cell_type": "code",
   "execution_count": 5,
   "metadata": {},
   "outputs": [],
   "source": [
    "df_comp['Date']=pd.to_datetime(df_comp['Date'],format='%d-%m-%Y')"
   ]
  },
  {
   "cell_type": "code",
   "execution_count": 6,
   "metadata": {},
   "outputs": [],
   "source": [
    "df_comp.set_index('Date',inplace=True)"
   ]
  },
  {
   "cell_type": "code",
   "execution_count": 7,
   "metadata": {},
   "outputs": [
    {
     "data": {
      "text/html": [
       "<div>\n",
       "<style scoped>\n",
       "    .dataframe tbody tr th:only-of-type {\n",
       "        vertical-align: middle;\n",
       "    }\n",
       "\n",
       "    .dataframe tbody tr th {\n",
       "        vertical-align: top;\n",
       "    }\n",
       "\n",
       "    .dataframe thead th {\n",
       "        text-align: right;\n",
       "    }\n",
       "</style>\n",
       "<table border=\"1\" class=\"dataframe\">\n",
       "  <thead>\n",
       "    <tr style=\"text-align: right;\">\n",
       "      <th></th>\n",
       "      <th>Comp Stock</th>\n",
       "    </tr>\n",
       "    <tr>\n",
       "      <th>Date</th>\n",
       "      <th></th>\n",
       "    </tr>\n",
       "  </thead>\n",
       "  <tbody>\n",
       "    <tr>\n",
       "      <td>2009-12-31</td>\n",
       "      <td>0.017354</td>\n",
       "    </tr>\n",
       "    <tr>\n",
       "      <td>2010-01-04</td>\n",
       "      <td>0.015565</td>\n",
       "    </tr>\n",
       "    <tr>\n",
       "      <td>2010-01-05</td>\n",
       "      <td>0.001729</td>\n",
       "    </tr>\n",
       "    <tr>\n",
       "      <td>2010-01-06</td>\n",
       "      <td>-0.015906</td>\n",
       "    </tr>\n",
       "    <tr>\n",
       "      <td>2010-01-07</td>\n",
       "      <td>-0.001849</td>\n",
       "    </tr>\n",
       "    <tr>\n",
       "      <td>...</td>\n",
       "      <td>...</td>\n",
       "    </tr>\n",
       "    <tr>\n",
       "      <td>2017-11-09</td>\n",
       "      <td>-0.002043</td>\n",
       "    </tr>\n",
       "    <tr>\n",
       "      <td>2017-11-10</td>\n",
       "      <td>-0.006880</td>\n",
       "    </tr>\n",
       "    <tr>\n",
       "      <td>2017-11-13</td>\n",
       "      <td>-0.004008</td>\n",
       "    </tr>\n",
       "    <tr>\n",
       "      <td>2017-11-14</td>\n",
       "      <td>-0.015118</td>\n",
       "    </tr>\n",
       "    <tr>\n",
       "      <td>2017-11-15</td>\n",
       "      <td>-0.013190</td>\n",
       "    </tr>\n",
       "  </tbody>\n",
       "</table>\n",
       "<p>1984 rows × 1 columns</p>\n",
       "</div>"
      ],
      "text/plain": [
       "            Comp Stock\n",
       "Date                  \n",
       "2009-12-31    0.017354\n",
       "2010-01-04    0.015565\n",
       "2010-01-05    0.001729\n",
       "2010-01-06   -0.015906\n",
       "2010-01-07   -0.001849\n",
       "...                ...\n",
       "2017-11-09   -0.002043\n",
       "2017-11-10   -0.006880\n",
       "2017-11-13   -0.004008\n",
       "2017-11-14   -0.015118\n",
       "2017-11-15   -0.013190\n",
       "\n",
       "[1984 rows x 1 columns]"
      ]
     },
     "execution_count": 7,
     "metadata": {},
     "output_type": "execute_result"
    }
   ],
   "source": [
    "df_comp"
   ]
  },
  {
   "cell_type": "code",
   "execution_count": 8,
   "metadata": {},
   "outputs": [
    {
     "data": {
      "text/plain": [
       "<matplotlib.axes._subplots.AxesSubplot at 0x21c42410a48>"
      ]
     },
     "execution_count": 8,
     "metadata": {},
     "output_type": "execute_result"
    },
    {
     "data": {
      "image/png": "[encoded data removed]",
      "text/plain": [
       "<Figure size 864x288 with 1 Axes>"
      ]
     },
     "metadata": {
      "needs_background": "light"
     },
     "output_type": "display_data"
    }
   ],
   "source": [
    "df_comp.plot(figsize=(12,4))"
   ]
  },
  {
   "cell_type": "code",
   "execution_count": 9,
   "metadata": {},
   "outputs": [],
   "source": [
    "from statsmodels.tsa.stattools import adfuller\n",
    "def adf_test(price):\n",
    "    result=adfuller(price) # same as above ,variable name changed\n",
    "    labels = ['ADF Test Statistic','p-value','#Lags Used','Number of Observations Used']\n",
    "    for value,label in zip(result,labels):\n",
    "        print(label+' : '+str(value) )\n",
    "    if result[1] <= 0.05:\n",
    "        print(\"strong evidence against the null hypothesis(Ho), reject the null hypothesis. Data  is stationary\")\n",
    "    else:\n",
    "        print(\"weak evidence against null hypothesis, time series is non-stationary \")"
   ]
  },
  {
   "cell_type": "code",
   "execution_count": 11,
   "metadata": {},
   "outputs": [
    {
     "name": "stdout",
     "output_type": "stream",
     "text": [
      "ADF Test Statistic : -12.473386265908276\n",
      "p-value : 3.207774293089398e-23\n",
      "#Lags Used : 12\n",
      "Number of Observations Used : 1971\n",
      "strong evidence against the null hypothesis(Ho), reject the null hypothesis. Data  is stationary\n"
     ]
    }
   ],
   "source": [
    "adf_test(df_comp['Comp Stock'])"
   ]
  },
  {
   "cell_type": "code",
   "execution_count": 13,
   "metadata": {},
   "outputs": [
    {
     "data": {
      "text/plain": [
       "<matplotlib.legend.Legend at 0x21c434a2ac8>"
      ]
     },
     "execution_count": 13,
     "metadata": {},
     "output_type": "execute_result"
    },
    {
     "data": {
      "image/png": "[encoded data removed]",
      "text/plain": [
       "<Figure size 576x432 with 1 Axes>"
      ]
     },
     "metadata": {
      "needs_background": "light"
     },
     "output_type": "display_data"
    }
   ],
   "source": [
    "size=int(len(df_comp)*0.70)\n",
    "train_data, test_data = df_comp[0:size], df_comp[size:]\n",
    "plt.figure(figsize=(8,6))\n",
    "plt.grid(True)\n",
    "plt.xlabel('Years')\n",
    "plt.ylabel('Prices')\n",
    "plt.plot(df_comp,'red',label='Train data')\n",
    "plt.plot(test_data, 'blue', label='Test data')\n",
    "plt.legend()"
   ]
  },
  {
   "cell_type": "code",
   "execution_count": 14,
   "metadata": {},
   "outputs": [
    {
     "name": "stderr",
     "output_type": "stream",
     "text": [
      "C:\\Users\\admin\\Anaconda3\\lib\\site-packages\\statsmodels\\tsa\\base\\tsa_model.py:219: ValueWarning: A date index has been provided, but it has no associated frequency information and so will be ignored when e.g. forecasting.\n",
      "  ' ignored when e.g. forecasting.', ValueWarning)\n",
      "C:\\Users\\admin\\Anaconda3\\lib\\site-packages\\statsmodels\\tsa\\base\\tsa_model.py:219: ValueWarning: A date index has been provided, but it has no associated frequency information and so will be ignored when e.g. forecasting.\n",
      "  ' ignored when e.g. forecasting.', ValueWarning)\n",
      "C:\\Users\\admin\\Anaconda3\\lib\\site-packages\\statsmodels\\base\\model.py:512: ConvergenceWarning: Maximum Likelihood optimization failed to converge. Check mle_retvals\n",
      "  \"Check mle_retvals\", ConvergenceWarning)\n"
     ]
    }
   ],
   "source": [
    "from statsmodels.tsa.arima_model import ARIMA\n",
    "model=ARIMA(train_data,order=(5,1,1))\n",
    "results=model.fit()"
   ]
  },
  {
   "cell_type": "code",
   "execution_count": 15,
   "metadata": {
    "scrolled": true
   },
   "outputs": [
    {
     "data": {
      "text/html": [
       "<table class=\"simpletable\">\n",
       "<caption>ARIMA Model Results</caption>\n",
       "<tr>\n",
       "  <th>Dep. Variable:</th>   <td>D.Comp Stock</td>   <th>  No. Observations:  </th>   <td>1387</td>   \n",
       "</tr>\n",
       "<tr>\n",
       "  <th>Model:</th>          <td>ARIMA(5, 1, 1)</td>  <th>  Log Likelihood     </th> <td>3717.859</td> \n",
       "</tr>\n",
       "<tr>\n",
       "  <th>Method:</th>             <td>css-mle</td>     <th>  S.D. of innovations</th>   <td>0.017</td>  \n",
       "</tr>\n",
       "<tr>\n",
       "  <th>Date:</th>          <td>Sun, 01 Nov 2020</td> <th>  AIC                </th> <td>-7419.718</td>\n",
       "</tr>\n",
       "<tr>\n",
       "  <th>Time:</th>              <td>17:35:56</td>     <th>  BIC                </th> <td>-7377.839</td>\n",
       "</tr>\n",
       "<tr>\n",
       "  <th>Sample:</th>                <td>1</td>        <th>  HQIC               </th> <td>-7404.055</td>\n",
       "</tr>\n",
       "<tr>\n",
       "  <th></th>                       <td> </td>        <th>                     </th>     <td> </td>    \n",
       "</tr>\n",
       "</table>\n",
       "<table class=\"simpletable\">\n",
       "<tr>\n",
       "           <td></td>             <th>coef</th>     <th>std err</th>      <th>z</th>      <th>P>|z|</th>  <th>[0.025</th>    <th>0.975]</th>  \n",
       "</tr>\n",
       "<tr>\n",
       "  <th>const</th>              <td>-6.669e-07</td> <td> 1.14e-06</td> <td>   -0.586</td> <td> 0.558</td> <td> -2.9e-06</td> <td> 1.57e-06</td>\n",
       "</tr>\n",
       "<tr>\n",
       "  <th>ar.L1.D.Comp Stock</th> <td>    0.0183</td> <td>    0.027</td> <td>    0.682</td> <td> 0.495</td> <td>   -0.034</td> <td>    0.071</td>\n",
       "</tr>\n",
       "<tr>\n",
       "  <th>ar.L2.D.Comp Stock</th> <td>    0.0035</td> <td>    0.027</td> <td>    0.131</td> <td> 0.896</td> <td>   -0.049</td> <td>    0.056</td>\n",
       "</tr>\n",
       "<tr>\n",
       "  <th>ar.L3.D.Comp Stock</th> <td>   -0.0358</td> <td>    0.027</td> <td>   -1.336</td> <td> 0.182</td> <td>   -0.088</td> <td>    0.017</td>\n",
       "</tr>\n",
       "<tr>\n",
       "  <th>ar.L4.D.Comp Stock</th> <td>    0.0492</td> <td>    0.027</td> <td>    1.834</td> <td> 0.067</td> <td>   -0.003</td> <td>    0.102</td>\n",
       "</tr>\n",
       "<tr>\n",
       "  <th>ar.L5.D.Comp Stock</th> <td>   -0.0481</td> <td>    0.027</td> <td>   -1.794</td> <td> 0.073</td> <td>   -0.101</td> <td>    0.004</td>\n",
       "</tr>\n",
       "<tr>\n",
       "  <th>ma.L1.D.Comp Stock</th> <td>   -0.9993</td> <td>    0.003</td> <td> -382.973</td> <td> 0.000</td> <td>   -1.004</td> <td>   -0.994</td>\n",
       "</tr>\n",
       "</table>\n",
       "<table class=\"simpletable\">\n",
       "<caption>Roots</caption>\n",
       "<tr>\n",
       "    <td></td>   <th>            Real</th>  <th>         Imaginary</th> <th>         Modulus</th>  <th>        Frequency</th>\n",
       "</tr>\n",
       "<tr>\n",
       "  <th>AR.1</th> <td>          -1.6172</td> <td>          -0.0000j</td> <td>           1.6172</td> <td>          -0.5000</td>\n",
       "</tr>\n",
       "<tr>\n",
       "  <th>AR.2</th> <td>          -0.3313</td> <td>          -1.7767j</td> <td>           1.8073</td> <td>          -0.2793</td>\n",
       "</tr>\n",
       "<tr>\n",
       "  <th>AR.3</th> <td>          -0.3313</td> <td>          +1.7767j</td> <td>           1.8073</td> <td>           0.2793</td>\n",
       "</tr>\n",
       "<tr>\n",
       "  <th>AR.4</th> <td>           1.6508</td> <td>          -1.0990j</td> <td>           1.9831</td> <td>          -0.0935</td>\n",
       "</tr>\n",
       "<tr>\n",
       "  <th>AR.5</th> <td>           1.6508</td> <td>          +1.0990j</td> <td>           1.9831</td> <td>           0.0935</td>\n",
       "</tr>\n",
       "<tr>\n",
       "  <th>MA.1</th> <td>           1.0007</td> <td>          +0.0000j</td> <td>           1.0007</td> <td>           0.0000</td>\n",
       "</tr>\n",
       "</table>"
      ],
      "text/plain": [
       "<class 'statsmodels.iolib.summary.Summary'>\n",
       "\"\"\"\n",
       "                             ARIMA Model Results                              \n",
       "==============================================================================\n",
       "Dep. Variable:           D.Comp Stock   No. Observations:                 1387\n",
       "Model:                 ARIMA(5, 1, 1)   Log Likelihood                3717.859\n",
       "Method:                       css-mle   S.D. of innovations              0.017\n",
       "Date:                Sun, 01 Nov 2020   AIC                          -7419.718\n",
       "Time:                        17:35:56   BIC                          -7377.839\n",
       "Sample:                             1   HQIC                         -7404.055\n",
       "                                                                              \n",
       "======================================================================================\n",
       "                         coef    std err          z      P>|z|      [0.025      0.975]\n",
       "--------------------------------------------------------------------------------------\n",
       "const              -6.669e-07   1.14e-06     -0.586      0.558    -2.9e-06    1.57e-06\n",
       "ar.L1.D.Comp Stock     0.0183      0.027      0.682      0.495      -0.034       0.071\n",
       "ar.L2.D.Comp Stock     0.0035      0.027      0.131      0.896      -0.049       0.056\n",
       "ar.L3.D.Comp Stock    -0.0358      0.027     -1.336      0.182      -0.088       0.017\n",
       "ar.L4.D.Comp Stock     0.0492      0.027      1.834      0.067      -0.003       0.102\n",
       "ar.L5.D.Comp Stock    -0.0481      0.027     -1.794      0.073      -0.101       0.004\n",
       "ma.L1.D.Comp Stock    -0.9993      0.003   -382.973      0.000      -1.004      -0.994\n",
       "                                    Roots                                    \n",
       "=============================================================================\n",
       "                  Real          Imaginary           Modulus         Frequency\n",
       "-----------------------------------------------------------------------------\n",
       "AR.1           -1.6172           -0.0000j            1.6172           -0.5000\n",
       "AR.2           -0.3313           -1.7767j            1.8073           -0.2793\n",
       "AR.3           -0.3313           +1.7767j            1.8073            0.2793\n",
       "AR.4            1.6508           -1.0990j            1.9831           -0.0935\n",
       "AR.5            1.6508           +1.0990j            1.9831            0.0935\n",
       "MA.1            1.0007           +0.0000j            1.0007            0.0000\n",
       "-----------------------------------------------------------------------------\n",
       "\"\"\""
      ]
     },
     "execution_count": 15,
     "metadata": {},
     "output_type": "execute_result"
    }
   ],
   "source": [
    "results.summary()"
   ]
  },
  {
   "cell_type": "code",
   "execution_count": 16,
   "metadata": {},
   "outputs": [
    {
     "data": {
      "image/png": "[encoded data removed]",
      "text/plain": [
       "<Figure size 1500x400 with 1 Axes>"
      ]
     },
     "metadata": {
      "needs_background": "light"
     },
     "output_type": "display_data"
    }
   ],
   "source": [
    "fc, se, conf = results.forecast(596, alpha=0.05)  # 95% conf\n",
    "# Make as pandas series\n",
    "fc_series = pd.Series(fc, index=test_data.index)\n",
    "lower_series = pd.Series(conf[:, 0], index=test_data.index)\n",
    "upper_series = pd.Series(conf[:, 1], index=test_data.index)\n",
    "# Plot\n",
    "plt.figure(figsize=(15,4), dpi=100)\n",
    "plt.plot(train_data, label='training')\n",
    "plt.plot(test_data, label='actual')\n",
    "plt.plot(fc_series, label='forecast')\n",
    "plt.fill_between(lower_series.index, lower_series, \n",
    "                 color='k', alpha=.15)\n",
    "plt.title('Forecast vs Actuals')\n",
    "plt.legend(loc='upper left', fontsize=8)\n",
    "plt.show()"
   ]
  },
  {
   "cell_type": "code",
   "execution_count": 17,
   "metadata": {},
   "outputs": [
    {
     "name": "stdout",
     "output_type": "stream",
     "text": [
      "MSE: 0.00021278117988967514\n",
      "MAE: 0.0101115953084999\n",
      "RMSE: 0.014587020939509037\n"
     ]
    }
   ],
   "source": [
    "import math\n",
    "from sklearn.metrics import mean_squared_error,mean_absolute_error\n",
    "mse = mean_squared_error(test_data, fc)\n",
    "print('MSE: '+str(mse))\n",
    "mae = mean_absolute_error(test_data, fc)\n",
    "print('MAE: '+str(mae))\n",
    "rmse = math.sqrt(mean_squared_error(test_data, fc))\n",
    "print('RMSE: '+str(rmse))"
   ]
  },
  {
   "cell_type": "code",
   "execution_count": 18,
   "metadata": {},
   "outputs": [
    {
     "data": {
      "text/plain": [
       "Date\n",
       "2015-07-09   -0.000126\n",
       "2015-07-10    0.000611\n",
       "2015-07-13    0.001669\n",
       "2015-07-14   -0.000344\n",
       "2015-07-15    0.001887\n",
       "                ...   \n",
       "2017-11-09    0.000320\n",
       "2017-11-10    0.000320\n",
       "2017-11-13    0.000319\n",
       "2017-11-14    0.000318\n",
       "2017-11-15    0.000318\n",
       "Length: 596, dtype: float64"
      ]
     },
     "execution_count": 18,
     "metadata": {},
     "output_type": "execute_result"
    }
   ],
   "source": [
    "fc_series"
   ]
  },
  {
   "cell_type": "code",
   "execution_count": 20,
   "metadata": {},
   "outputs": [],
   "source": [
    "from pandas.tseries.offsets import DateOffset\n",
    "future_dates=[df_comp.index[-1]+ DateOffset(months=x)for x in range(0,60)]"
   ]
  },
  {
   "cell_type": "code",
   "execution_count": 21,
   "metadata": {},
   "outputs": [],
   "source": [
    "df_comp_future=pd.DataFrame(index=future_dates[1:],columns=df_comp.columns)"
   ]
  },
  {
   "cell_type": "code",
   "execution_count": 22,
   "metadata": {},
   "outputs": [
    {
     "data": {
      "text/html": [
       "<div>\n",
       "<style scoped>\n",
       "    .dataframe tbody tr th:only-of-type {\n",
       "        vertical-align: middle;\n",
       "    }\n",
       "\n",
       "    .dataframe tbody tr th {\n",
       "        vertical-align: top;\n",
       "    }\n",
       "\n",
       "    .dataframe thead th {\n",
       "        text-align: right;\n",
       "    }\n",
       "</style>\n",
       "<table border=\"1\" class=\"dataframe\">\n",
       "  <thead>\n",
       "    <tr style=\"text-align: right;\">\n",
       "      <th></th>\n",
       "      <th>Comp Stock</th>\n",
       "    </tr>\n",
       "  </thead>\n",
       "  <tbody>\n",
       "    <tr>\n",
       "      <td>2022-06-15</td>\n",
       "      <td>NaN</td>\n",
       "    </tr>\n",
       "    <tr>\n",
       "      <td>2022-07-15</td>\n",
       "      <td>NaN</td>\n",
       "    </tr>\n",
       "    <tr>\n",
       "      <td>2022-08-15</td>\n",
       "      <td>NaN</td>\n",
       "    </tr>\n",
       "    <tr>\n",
       "      <td>2022-09-15</td>\n",
       "      <td>NaN</td>\n",
       "    </tr>\n",
       "    <tr>\n",
       "      <td>2022-10-15</td>\n",
       "      <td>NaN</td>\n",
       "    </tr>\n",
       "  </tbody>\n",
       "</table>\n",
       "</div>"
      ],
      "text/plain": [
       "           Comp Stock\n",
       "2022-06-15        NaN\n",
       "2022-07-15        NaN\n",
       "2022-08-15        NaN\n",
       "2022-09-15        NaN\n",
       "2022-10-15        NaN"
      ]
     },
     "execution_count": 22,
     "metadata": {},
     "output_type": "execute_result"
    }
   ],
   "source": [
    "df_comp_future.tail()"
   ]
  },
  {
   "cell_type": "code",
   "execution_count": 23,
   "metadata": {},
   "outputs": [
    {
     "data": {
      "text/plain": [
       "2017-12-15   -0.000126\n",
       "2018-01-15    0.000611\n",
       "2018-02-15    0.001669\n",
       "2018-03-15   -0.000344\n",
       "2018-04-15    0.001887\n",
       "2018-05-15    0.000730\n",
       "2018-06-15    0.000805\n",
       "2018-07-15    0.000571\n",
       "2018-08-15    0.000815\n",
       "2018-09-15    0.000651\n",
       "2018-10-15    0.000716\n",
       "2018-11-15    0.000692\n",
       "2018-12-15    0.000720\n",
       "2019-01-15    0.000698\n",
       "2019-02-15    0.000709\n",
       "2019-03-15    0.000703\n",
       "2019-04-15    0.000705\n",
       "2019-05-15    0.000702\n",
       "2019-06-15    0.000703\n",
       "2019-07-15    0.000701\n",
       "2019-08-15    0.000701\n",
       "2019-09-15    0.000700\n",
       "2019-10-15    0.000700\n",
       "2019-11-15    0.000699\n",
       "2019-12-15    0.000698\n",
       "2020-01-15    0.000698\n",
       "2020-02-15    0.000697\n",
       "2020-03-15    0.000696\n",
       "2020-04-15    0.000696\n",
       "2020-05-15    0.000695\n",
       "2020-06-15    0.000694\n",
       "2020-07-15    0.000694\n",
       "2020-08-15    0.000693\n",
       "2020-09-15    0.000692\n",
       "2020-10-15    0.000692\n",
       "2020-11-15    0.000691\n",
       "2020-12-15    0.000690\n",
       "2021-01-15    0.000690\n",
       "2021-02-15    0.000689\n",
       "2021-03-15    0.000688\n",
       "2021-04-15    0.000688\n",
       "2021-05-15    0.000687\n",
       "2021-06-15    0.000686\n",
       "2021-07-15    0.000686\n",
       "2021-08-15    0.000685\n",
       "2021-09-15    0.000684\n",
       "2021-10-15    0.000684\n",
       "2021-11-15    0.000683\n",
       "2021-12-15    0.000682\n",
       "2022-01-15    0.000682\n",
       "2022-02-15    0.000681\n",
       "2022-03-15    0.000680\n",
       "2022-04-15    0.000680\n",
       "2022-05-15    0.000679\n",
       "2022-06-15    0.000678\n",
       "2022-07-15    0.000678\n",
       "2022-08-15    0.000677\n",
       "2022-09-15    0.000676\n",
       "2022-10-15    0.000676\n",
       "dtype: float64"
      ]
     },
     "execution_count": 23,
     "metadata": {},
     "output_type": "execute_result"
    }
   ],
   "source": [
    "fc1, se1, conf1 = results.forecast(59, alpha=0.05)  # 95% confidence\n",
    "fc1_series = pd.Series(fc1, index=df_comp_future.index)\n",
    "fc1_series"
   ]
  },
  {
   "cell_type": "code",
   "execution_count": 24,
   "metadata": {},
   "outputs": [
    {
     "data": {
      "text/plain": [
       "<matplotlib.axes._subplots.AxesSubplot at 0x21c4761b3c8>"
      ]
     },
     "execution_count": 24,
     "metadata": {},
     "output_type": "execute_result"
    },
    {
     "data": {
      "image/png": "[encoded data removed]",
      "text/plain": [
       "<Figure size 432x288 with 1 Axes>"
      ]
     },
     "metadata": {
      "needs_background": "light"
     },
     "output_type": "display_data"
    }
   ],
   "source": [
    "fc1_series.plot()"
   ]
  },
  {
   "cell_type": "code",
   "execution_count": null,
   "metadata": {},
   "outputs": [],
   "source": []
  },
  {
   "cell_type": "code",
   "execution_count": 25,
   "metadata": {},
   "outputs": [
    {
     "data": {
      "text/html": [
       "<div>\n",
       "<style scoped>\n",
       "    .dataframe tbody tr th:only-of-type {\n",
       "        vertical-align: middle;\n",
       "    }\n",
       "\n",
       "    .dataframe tbody tr th {\n",
       "        vertical-align: top;\n",
       "    }\n",
       "\n",
       "    .dataframe thead th {\n",
       "        text-align: right;\n",
       "    }\n",
       "</style>\n",
       "<table border=\"1\" class=\"dataframe\">\n",
       "  <thead>\n",
       "    <tr style=\"text-align: right;\">\n",
       "      <th></th>\n",
       "      <th>index</th>\n",
       "      <th>Comp Stock</th>\n",
       "    </tr>\n",
       "  </thead>\n",
       "  <tbody>\n",
       "    <tr>\n",
       "      <td>2038</td>\n",
       "      <td>2022-06-15</td>\n",
       "      <td>NaN</td>\n",
       "    </tr>\n",
       "    <tr>\n",
       "      <td>2039</td>\n",
       "      <td>2022-07-15</td>\n",
       "      <td>NaN</td>\n",
       "    </tr>\n",
       "    <tr>\n",
       "      <td>2040</td>\n",
       "      <td>2022-08-15</td>\n",
       "      <td>NaN</td>\n",
       "    </tr>\n",
       "    <tr>\n",
       "      <td>2041</td>\n",
       "      <td>2022-09-15</td>\n",
       "      <td>NaN</td>\n",
       "    </tr>\n",
       "    <tr>\n",
       "      <td>2042</td>\n",
       "      <td>2022-10-15</td>\n",
       "      <td>NaN</td>\n",
       "    </tr>\n",
       "  </tbody>\n",
       "</table>\n",
       "</div>"
      ],
      "text/plain": [
       "          index  Comp Stock\n",
       "2038 2022-06-15         NaN\n",
       "2039 2022-07-15         NaN\n",
       "2040 2022-08-15         NaN\n",
       "2041 2022-09-15         NaN\n",
       "2042 2022-10-15         NaN"
      ]
     },
     "execution_count": 25,
     "metadata": {},
     "output_type": "execute_result"
    }
   ],
   "source": [
    "df_comp_fc=pd.concat([df_comp,df_comp_future])\n",
    "df_comp_fc.reset_index(inplace=True)\n",
    "df_comp_fc.tail()\n"
   ]
  },
  {
   "cell_type": "code",
   "execution_count": 26,
   "metadata": {},
   "outputs": [
    {
     "data": {
      "text/html": [
       "<div>\n",
       "<style scoped>\n",
       "    .dataframe tbody tr th:only-of-type {\n",
       "        vertical-align: middle;\n",
       "    }\n",
       "\n",
       "    .dataframe tbody tr th {\n",
       "        vertical-align: top;\n",
       "    }\n",
       "\n",
       "    .dataframe thead th {\n",
       "        text-align: right;\n",
       "    }\n",
       "</style>\n",
       "<table border=\"1\" class=\"dataframe\">\n",
       "  <thead>\n",
       "    <tr style=\"text-align: right;\">\n",
       "      <th></th>\n",
       "      <th>index</th>\n",
       "      <th>Comp Stock</th>\n",
       "      <th>forecast</th>\n",
       "    </tr>\n",
       "  </thead>\n",
       "  <tbody>\n",
       "    <tr>\n",
       "      <td>0</td>\n",
       "      <td>2009-12-31</td>\n",
       "      <td>0.017354</td>\n",
       "      <td>NaN</td>\n",
       "    </tr>\n",
       "    <tr>\n",
       "      <td>1</td>\n",
       "      <td>2010-01-04</td>\n",
       "      <td>0.015565</td>\n",
       "      <td>NaN</td>\n",
       "    </tr>\n",
       "    <tr>\n",
       "      <td>2</td>\n",
       "      <td>2010-01-05</td>\n",
       "      <td>0.001729</td>\n",
       "      <td>NaN</td>\n",
       "    </tr>\n",
       "    <tr>\n",
       "      <td>3</td>\n",
       "      <td>2010-01-06</td>\n",
       "      <td>-0.015906</td>\n",
       "      <td>NaN</td>\n",
       "    </tr>\n",
       "    <tr>\n",
       "      <td>4</td>\n",
       "      <td>2010-01-07</td>\n",
       "      <td>-0.001849</td>\n",
       "      <td>NaN</td>\n",
       "    </tr>\n",
       "    <tr>\n",
       "      <td>...</td>\n",
       "      <td>...</td>\n",
       "      <td>...</td>\n",
       "      <td>...</td>\n",
       "    </tr>\n",
       "    <tr>\n",
       "      <td>2038</td>\n",
       "      <td>2022-06-15</td>\n",
       "      <td>NaN</td>\n",
       "      <td>NaN</td>\n",
       "    </tr>\n",
       "    <tr>\n",
       "      <td>2039</td>\n",
       "      <td>2022-07-15</td>\n",
       "      <td>NaN</td>\n",
       "      <td>NaN</td>\n",
       "    </tr>\n",
       "    <tr>\n",
       "      <td>2040</td>\n",
       "      <td>2022-08-15</td>\n",
       "      <td>NaN</td>\n",
       "      <td>NaN</td>\n",
       "    </tr>\n",
       "    <tr>\n",
       "      <td>2041</td>\n",
       "      <td>2022-09-15</td>\n",
       "      <td>NaN</td>\n",
       "      <td>NaN</td>\n",
       "    </tr>\n",
       "    <tr>\n",
       "      <td>2042</td>\n",
       "      <td>2022-10-15</td>\n",
       "      <td>NaN</td>\n",
       "      <td>NaN</td>\n",
       "    </tr>\n",
       "  </tbody>\n",
       "</table>\n",
       "<p>2043 rows × 3 columns</p>\n",
       "</div>"
      ],
      "text/plain": [
       "          index  Comp Stock  forecast\n",
       "0    2009-12-31    0.017354       NaN\n",
       "1    2010-01-04    0.015565       NaN\n",
       "2    2010-01-05    0.001729       NaN\n",
       "3    2010-01-06   -0.015906       NaN\n",
       "4    2010-01-07   -0.001849       NaN\n",
       "...         ...         ...       ...\n",
       "2038 2022-06-15         NaN       NaN\n",
       "2039 2022-07-15         NaN       NaN\n",
       "2040 2022-08-15         NaN       NaN\n",
       "2041 2022-09-15         NaN       NaN\n",
       "2042 2022-10-15         NaN       NaN\n",
       "\n",
       "[2043 rows x 3 columns]"
      ]
     },
     "execution_count": 26,
     "metadata": {},
     "output_type": "execute_result"
    }
   ],
   "source": [
    "df_comp_fc['forecast']=results.predict(start=97,end=144,dynamic=True)\n",
    "df_comp_fc"
   ]
  },
  {
   "cell_type": "code",
   "execution_count": null,
   "metadata": {},
   "outputs": [],
   "source": []
  }
 ],
 "metadata": {
  "kernelspec": {
   "display_name": "Python 3",
   "language": "python",
   "name": "python3"
  },
  "language_info": {
   "codemirror_mode": {
    "name": "ipython",
    "version": 3
   },
   "file_extension": ".py",
   "mimetype": "text/x-python",
   "name": "python",
   "nbconvert_exporter": "python",
   "pygments_lexer": "ipython3",
   "version": "3.7.4"
  }
 },
 "nbformat": 4,
 "nbformat_minor": 2
}
