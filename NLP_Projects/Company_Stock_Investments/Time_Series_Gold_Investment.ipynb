{
 "cells": [
  {
   "cell_type": "code",
   "execution_count": 1,
   "metadata": {},
   "outputs": [],
   "source": [
    "import pandas as pd\n",
    "import numpy as np\n",
    "import matplotlib.pyplot as plt\n",
    "import seaborn as sns\n",
    "import warnings\n",
    "warnings.filterwarnings('ignore', category=FutureWarning)"
   ]
  },
  {
   "cell_type": "code",
   "execution_count": 2,
   "metadata": {},
   "outputs": [
    {
     "data": {
      "text/html": [
       "<div>\n",
       "<style scoped>\n",
       "    .dataframe tbody tr th:only-of-type {\n",
       "        vertical-align: middle;\n",
       "    }\n",
       "\n",
       "    .dataframe tbody tr th {\n",
       "        vertical-align: top;\n",
       "    }\n",
       "\n",
       "    .dataframe thead th {\n",
       "        text-align: right;\n",
       "    }\n",
       "</style>\n",
       "<table border=\"1\" class=\"dataframe\">\n",
       "  <thead>\n",
       "    <tr style=\"text-align: right;\">\n",
       "      <th></th>\n",
       "      <th>Date</th>\n",
       "      <th>Oil Investments</th>\n",
       "      <th>Gold Investments</th>\n",
       "      <th>Comp Stock</th>\n",
       "      <th>Other sharesInvestments</th>\n",
       "    </tr>\n",
       "  </thead>\n",
       "  <tbody>\n",
       "    <tr>\n",
       "      <td>0</td>\n",
       "      <td>31-12-2009</td>\n",
       "      <td>0.025417</td>\n",
       "      <td>0.000150</td>\n",
       "      <td>0.017354</td>\n",
       "      <td>0.006848</td>\n",
       "    </tr>\n",
       "    <tr>\n",
       "      <td>1</td>\n",
       "      <td>04-01-2010</td>\n",
       "      <td>0.026830</td>\n",
       "      <td>0.001097</td>\n",
       "      <td>0.015565</td>\n",
       "      <td>-0.004609</td>\n",
       "    </tr>\n",
       "    <tr>\n",
       "      <td>2</td>\n",
       "      <td>05-01-2010</td>\n",
       "      <td>0.002699</td>\n",
       "      <td>0.001560</td>\n",
       "      <td>0.001729</td>\n",
       "      <td>0.005900</td>\n",
       "    </tr>\n",
       "    <tr>\n",
       "      <td>3</td>\n",
       "      <td>06-01-2010</td>\n",
       "      <td>0.021688</td>\n",
       "      <td>0.006009</td>\n",
       "      <td>-0.015906</td>\n",
       "      <td>-0.018116</td>\n",
       "    </tr>\n",
       "    <tr>\n",
       "      <td>4</td>\n",
       "      <td>07-01-2010</td>\n",
       "      <td>-0.006256</td>\n",
       "      <td>0.000221</td>\n",
       "      <td>-0.001849</td>\n",
       "      <td>-0.017013</td>\n",
       "    </tr>\n",
       "    <tr>\n",
       "      <td>...</td>\n",
       "      <td>...</td>\n",
       "      <td>...</td>\n",
       "      <td>...</td>\n",
       "      <td>...</td>\n",
       "      <td>...</td>\n",
       "    </tr>\n",
       "    <tr>\n",
       "      <td>1979</td>\n",
       "      <td>09-11-2017</td>\n",
       "      <td>0.005984</td>\n",
       "      <td>0.000623</td>\n",
       "      <td>-0.002043</td>\n",
       "      <td>-0.003310</td>\n",
       "    </tr>\n",
       "    <tr>\n",
       "      <td>1980</td>\n",
       "      <td>10-11-2017</td>\n",
       "      <td>-0.007173</td>\n",
       "      <td>-0.000389</td>\n",
       "      <td>-0.006880</td>\n",
       "      <td>-0.003348</td>\n",
       "    </tr>\n",
       "    <tr>\n",
       "      <td>1981</td>\n",
       "      <td>13-11-2017</td>\n",
       "      <td>0.000352</td>\n",
       "      <td>-0.004944</td>\n",
       "      <td>-0.004008</td>\n",
       "      <td>0.003395</td>\n",
       "    </tr>\n",
       "    <tr>\n",
       "      <td>1982</td>\n",
       "      <td>14-11-2017</td>\n",
       "      <td>-0.019376</td>\n",
       "      <td>-0.002621</td>\n",
       "      <td>-0.015118</td>\n",
       "      <td>0.006793</td>\n",
       "    </tr>\n",
       "    <tr>\n",
       "      <td>1983</td>\n",
       "      <td>15-11-2017</td>\n",
       "      <td>-0.007006</td>\n",
       "      <td>0.005963</td>\n",
       "      <td>-0.013190</td>\n",
       "      <td>-0.008928</td>\n",
       "    </tr>\n",
       "  </tbody>\n",
       "</table>\n",
       "<p>1984 rows × 5 columns</p>\n",
       "</div>"
      ],
      "text/plain": [
       "            Date  Oil Investments  Gold Investments  Comp Stock  \\\n",
       "0     31-12-2009         0.025417          0.000150    0.017354   \n",
       "1     04-01-2010         0.026830          0.001097    0.015565   \n",
       "2     05-01-2010         0.002699          0.001560    0.001729   \n",
       "3     06-01-2010         0.021688          0.006009   -0.015906   \n",
       "4     07-01-2010        -0.006256          0.000221   -0.001849   \n",
       "...          ...              ...               ...         ...   \n",
       "1979  09-11-2017         0.005984          0.000623   -0.002043   \n",
       "1980  10-11-2017        -0.007173         -0.000389   -0.006880   \n",
       "1981  13-11-2017         0.000352         -0.004944   -0.004008   \n",
       "1982  14-11-2017        -0.019376         -0.002621   -0.015118   \n",
       "1983  15-11-2017        -0.007006          0.005963   -0.013190   \n",
       "\n",
       "      Other sharesInvestments  \n",
       "0                    0.006848  \n",
       "1                   -0.004609  \n",
       "2                    0.005900  \n",
       "3                   -0.018116  \n",
       "4                   -0.017013  \n",
       "...                       ...  \n",
       "1979                -0.003310  \n",
       "1980                -0.003348  \n",
       "1981                 0.003395  \n",
       "1982                 0.006793  \n",
       "1983                -0.008928  \n",
       "\n",
       "[1984 rows x 5 columns]"
      ]
     },
     "execution_count": 2,
     "metadata": {},
     "output_type": "execute_result"
    }
   ],
   "source": [
    "df = pd.read_csv('Company Stock and Investment.csv')\n",
    "df"
   ]
  },
  {
   "cell_type": "code",
   "execution_count": 3,
   "metadata": {},
   "outputs": [
    {
     "data": {
      "text/html": [
       "<div>\n",
       "<style scoped>\n",
       "    .dataframe tbody tr th:only-of-type {\n",
       "        vertical-align: middle;\n",
       "    }\n",
       "\n",
       "    .dataframe tbody tr th {\n",
       "        vertical-align: top;\n",
       "    }\n",
       "\n",
       "    .dataframe thead th {\n",
       "        text-align: right;\n",
       "    }\n",
       "</style>\n",
       "<table border=\"1\" class=\"dataframe\">\n",
       "  <thead>\n",
       "    <tr style=\"text-align: right;\">\n",
       "      <th></th>\n",
       "      <th>Date</th>\n",
       "      <th>Gold Investments</th>\n",
       "    </tr>\n",
       "  </thead>\n",
       "  <tbody>\n",
       "    <tr>\n",
       "      <td>0</td>\n",
       "      <td>31-12-2009</td>\n",
       "      <td>0.000150</td>\n",
       "    </tr>\n",
       "    <tr>\n",
       "      <td>1</td>\n",
       "      <td>04-01-2010</td>\n",
       "      <td>0.001097</td>\n",
       "    </tr>\n",
       "    <tr>\n",
       "      <td>2</td>\n",
       "      <td>05-01-2010</td>\n",
       "      <td>0.001560</td>\n",
       "    </tr>\n",
       "    <tr>\n",
       "      <td>3</td>\n",
       "      <td>06-01-2010</td>\n",
       "      <td>0.006009</td>\n",
       "    </tr>\n",
       "    <tr>\n",
       "      <td>4</td>\n",
       "      <td>07-01-2010</td>\n",
       "      <td>0.000221</td>\n",
       "    </tr>\n",
       "    <tr>\n",
       "      <td>...</td>\n",
       "      <td>...</td>\n",
       "      <td>...</td>\n",
       "    </tr>\n",
       "    <tr>\n",
       "      <td>1979</td>\n",
       "      <td>09-11-2017</td>\n",
       "      <td>0.000623</td>\n",
       "    </tr>\n",
       "    <tr>\n",
       "      <td>1980</td>\n",
       "      <td>10-11-2017</td>\n",
       "      <td>-0.000389</td>\n",
       "    </tr>\n",
       "    <tr>\n",
       "      <td>1981</td>\n",
       "      <td>13-11-2017</td>\n",
       "      <td>-0.004944</td>\n",
       "    </tr>\n",
       "    <tr>\n",
       "      <td>1982</td>\n",
       "      <td>14-11-2017</td>\n",
       "      <td>-0.002621</td>\n",
       "    </tr>\n",
       "    <tr>\n",
       "      <td>1983</td>\n",
       "      <td>15-11-2017</td>\n",
       "      <td>0.005963</td>\n",
       "    </tr>\n",
       "  </tbody>\n",
       "</table>\n",
       "<p>1984 rows × 2 columns</p>\n",
       "</div>"
      ],
      "text/plain": [
       "            Date  Gold Investments\n",
       "0     31-12-2009          0.000150\n",
       "1     04-01-2010          0.001097\n",
       "2     05-01-2010          0.001560\n",
       "3     06-01-2010          0.006009\n",
       "4     07-01-2010          0.000221\n",
       "...          ...               ...\n",
       "1979  09-11-2017          0.000623\n",
       "1980  10-11-2017         -0.000389\n",
       "1981  13-11-2017         -0.004944\n",
       "1982  14-11-2017         -0.002621\n",
       "1983  15-11-2017          0.005963\n",
       "\n",
       "[1984 rows x 2 columns]"
      ]
     },
     "execution_count": 3,
     "metadata": {},
     "output_type": "execute_result"
    }
   ],
   "source": [
    "df_gold = df.drop(['Oil Investments','Comp Stock','Other sharesInvestments'],axis=1)\n",
    "df_gold"
   ]
  },
  {
   "cell_type": "code",
   "execution_count": 4,
   "metadata": {},
   "outputs": [
    {
     "data": {
      "text/plain": [
       "Date                0\n",
       "Gold Investments    0\n",
       "dtype: int64"
      ]
     },
     "execution_count": 4,
     "metadata": {},
     "output_type": "execute_result"
    }
   ],
   "source": [
    "df_gold.isnull().sum()"
   ]
  },
  {
   "cell_type": "code",
   "execution_count": 5,
   "metadata": {},
   "outputs": [],
   "source": [
    "df_gold['Date']=pd.to_datetime(df_gold['Date'],format='%d-%m-%Y')"
   ]
  },
  {
   "cell_type": "code",
   "execution_count": 6,
   "metadata": {},
   "outputs": [],
   "source": [
    "df_gold.set_index('Date',inplace=True)"
   ]
  },
  {
   "cell_type": "code",
   "execution_count": 7,
   "metadata": {},
   "outputs": [
    {
     "data": {
      "text/html": [
       "<div>\n",
       "<style scoped>\n",
       "    .dataframe tbody tr th:only-of-type {\n",
       "        vertical-align: middle;\n",
       "    }\n",
       "\n",
       "    .dataframe tbody tr th {\n",
       "        vertical-align: top;\n",
       "    }\n",
       "\n",
       "    .dataframe thead th {\n",
       "        text-align: right;\n",
       "    }\n",
       "</style>\n",
       "<table border=\"1\" class=\"dataframe\">\n",
       "  <thead>\n",
       "    <tr style=\"text-align: right;\">\n",
       "      <th></th>\n",
       "      <th>Gold Investments</th>\n",
       "    </tr>\n",
       "    <tr>\n",
       "      <th>Date</th>\n",
       "      <th></th>\n",
       "    </tr>\n",
       "  </thead>\n",
       "  <tbody>\n",
       "    <tr>\n",
       "      <td>2009-12-31</td>\n",
       "      <td>0.000150</td>\n",
       "    </tr>\n",
       "    <tr>\n",
       "      <td>2010-01-04</td>\n",
       "      <td>0.001097</td>\n",
       "    </tr>\n",
       "    <tr>\n",
       "      <td>2010-01-05</td>\n",
       "      <td>0.001560</td>\n",
       "    </tr>\n",
       "    <tr>\n",
       "      <td>2010-01-06</td>\n",
       "      <td>0.006009</td>\n",
       "    </tr>\n",
       "    <tr>\n",
       "      <td>2010-01-07</td>\n",
       "      <td>0.000221</td>\n",
       "    </tr>\n",
       "    <tr>\n",
       "      <td>...</td>\n",
       "      <td>...</td>\n",
       "    </tr>\n",
       "    <tr>\n",
       "      <td>2017-11-09</td>\n",
       "      <td>0.000623</td>\n",
       "    </tr>\n",
       "    <tr>\n",
       "      <td>2017-11-10</td>\n",
       "      <td>-0.000389</td>\n",
       "    </tr>\n",
       "    <tr>\n",
       "      <td>2017-11-13</td>\n",
       "      <td>-0.004944</td>\n",
       "    </tr>\n",
       "    <tr>\n",
       "      <td>2017-11-14</td>\n",
       "      <td>-0.002621</td>\n",
       "    </tr>\n",
       "    <tr>\n",
       "      <td>2017-11-15</td>\n",
       "      <td>0.005963</td>\n",
       "    </tr>\n",
       "  </tbody>\n",
       "</table>\n",
       "<p>1984 rows × 1 columns</p>\n",
       "</div>"
      ],
      "text/plain": [
       "            Gold Investments\n",
       "Date                        \n",
       "2009-12-31          0.000150\n",
       "2010-01-04          0.001097\n",
       "2010-01-05          0.001560\n",
       "2010-01-06          0.006009\n",
       "2010-01-07          0.000221\n",
       "...                      ...\n",
       "2017-11-09          0.000623\n",
       "2017-11-10         -0.000389\n",
       "2017-11-13         -0.004944\n",
       "2017-11-14         -0.002621\n",
       "2017-11-15          0.005963\n",
       "\n",
       "[1984 rows x 1 columns]"
      ]
     },
     "execution_count": 7,
     "metadata": {},
     "output_type": "execute_result"
    }
   ],
   "source": [
    "df_gold"
   ]
  },
  {
   "cell_type": "code",
   "execution_count": 8,
   "metadata": {},
   "outputs": [
    {
     "data": {
      "text/plain": [
       "<matplotlib.axes._subplots.AxesSubplot at 0x2784cc002c8>"
      ]
     },
     "execution_count": 8,
     "metadata": {},
     "output_type": "execute_result"
    },
    {
     "data": {
      "image/png": "[encoded data removed]",
      "text/plain": [
       "<Figure size 864x288 with 1 Axes>"
      ]
     },
     "metadata": {
      "needs_background": "light"
     },
     "output_type": "display_data"
    }
   ],
   "source": [
    "df_gold.plot(figsize=(12,4))"
   ]
  },
  {
   "cell_type": "code",
   "execution_count": 9,
   "metadata": {},
   "outputs": [],
   "source": [
    "from statsmodels.tsa.stattools import adfuller\n",
    "def adf_test(price):\n",
    "    result=adfuller(price) # same as above ,variable name changed\n",
    "    labels = ['ADF Test Statistic','p-value','#Lags Used','Number of Observations Used']\n",
    "    for value,label in zip(result,labels):\n",
    "        print(label+' : '+str(value) )\n",
    "    if result[1] <= 0.05:\n",
    "        print(\"strong evidence against the null hypothesis(Ho), reject the null hypothesis. Data  is stationary\")\n",
    "    else:\n",
    "        print(\"weak evidence against null hypothesis, time series is non-stationary \")"
   ]
  },
  {
   "cell_type": "code",
   "execution_count": 10,
   "metadata": {},
   "outputs": [
    {
     "name": "stdout",
     "output_type": "stream",
     "text": [
      "ADF Test Statistic : -15.906853851669018\n",
      "p-value : 8.208405770369596e-29\n",
      "#Lags Used : 7\n",
      "Number of Observations Used : 1976\n",
      "strong evidence against the null hypothesis(Ho), reject the null hypothesis. Data  is stationary\n"
     ]
    }
   ],
   "source": [
    "adf_test(df_gold['Gold Investments'])"
   ]
  },
  {
   "cell_type": "code",
   "execution_count": 11,
   "metadata": {},
   "outputs": [
    {
     "data": {
      "text/plain": [
       "<matplotlib.legend.Legend at 0x2784cca8b48>"
      ]
     },
     "execution_count": 11,
     "metadata": {},
     "output_type": "execute_result"
    },
    {
     "data": {
      "image/png": "[encoded data removed]",
      "text/plain": [
       "<Figure size 576x432 with 1 Axes>"
      ]
     },
     "metadata": {
      "needs_background": "light"
     },
     "output_type": "display_data"
    }
   ],
   "source": [
    "size=int(len(df)*0.70)\n",
    "train_data, test_data = df_gold[0:size], df_gold[size:]\n",
    "plt.figure(figsize=(8,6))\n",
    "plt.grid(True)\n",
    "plt.xlabel('Years')\n",
    "plt.ylabel('Prices')\n",
    "plt.plot(df_gold,'red',label='Train data')\n",
    "plt.plot(test_data, 'blue', label='Test data')\n",
    "plt.legend()"
   ]
  },
  {
   "cell_type": "code",
   "execution_count": 12,
   "metadata": {},
   "outputs": [
    {
     "name": "stderr",
     "output_type": "stream",
     "text": [
      "C:\\Users\\admin\\Anaconda3\\lib\\site-packages\\statsmodels\\tsa\\base\\tsa_model.py:219: ValueWarning: A date index has been provided, but it has no associated frequency information and so will be ignored when e.g. forecasting.\n",
      "  ' ignored when e.g. forecasting.', ValueWarning)\n",
      "C:\\Users\\admin\\Anaconda3\\lib\\site-packages\\statsmodels\\tsa\\base\\tsa_model.py:219: ValueWarning: A date index has been provided, but it has no associated frequency information and so will be ignored when e.g. forecasting.\n",
      "  ' ignored when e.g. forecasting.', ValueWarning)\n"
     ]
    }
   ],
   "source": [
    "from statsmodels.tsa.arima_model import ARIMA\n",
    "model=ARIMA(train_data,order=(5,1,1))\n",
    "results=model.fit()"
   ]
  },
  {
   "cell_type": "code",
   "execution_count": 13,
   "metadata": {
    "scrolled": true
   },
   "outputs": [
    {
     "data": {
      "text/html": [
       "<table class=\"simpletable\">\n",
       "<caption>ARIMA Model Results</caption>\n",
       "<tr>\n",
       "  <th>Dep. Variable:</th> <td>D.Gold Investments</td> <th>  No. Observations:  </th>   <td>1387</td>   \n",
       "</tr>\n",
       "<tr>\n",
       "  <th>Model:</th>           <td>ARIMA(5, 1, 1)</td>   <th>  Log Likelihood     </th>  <td>772.797</td> \n",
       "</tr>\n",
       "<tr>\n",
       "  <th>Method:</th>              <td>css-mle</td>      <th>  S.D. of innovations</th>   <td>0.138</td>  \n",
       "</tr>\n",
       "<tr>\n",
       "  <th>Date:</th>           <td>Sun, 01 Nov 2020</td>  <th>  AIC                </th> <td>-1529.593</td>\n",
       "</tr>\n",
       "<tr>\n",
       "  <th>Time:</th>               <td>17:03:21</td>      <th>  BIC                </th> <td>-1487.714</td>\n",
       "</tr>\n",
       "<tr>\n",
       "  <th>Sample:</th>                 <td>1</td>         <th>  HQIC               </th> <td>-1513.931</td>\n",
       "</tr>\n",
       "<tr>\n",
       "  <th></th>                        <td> </td>         <th>                     </th>     <td> </td>    \n",
       "</tr>\n",
       "</table>\n",
       "<table class=\"simpletable\">\n",
       "<tr>\n",
       "              <td></td>                <th>coef</th>     <th>std err</th>      <th>z</th>      <th>P>|z|</th>  <th>[0.025</th>    <th>0.975]</th>  \n",
       "</tr>\n",
       "<tr>\n",
       "  <th>const</th>                    <td>-3.582e-06</td> <td> 1.07e-05</td> <td>   -0.334</td> <td> 0.738</td> <td>-2.46e-05</td> <td> 1.74e-05</td>\n",
       "</tr>\n",
       "<tr>\n",
       "  <th>ar.L1.D.Gold Investments</th> <td>   -0.0186</td> <td>    0.027</td> <td>   -0.691</td> <td> 0.489</td> <td>   -0.071</td> <td>    0.034</td>\n",
       "</tr>\n",
       "<tr>\n",
       "  <th>ar.L2.D.Gold Investments</th> <td>   -0.0178</td> <td>    0.026</td> <td>   -0.677</td> <td> 0.499</td> <td>   -0.069</td> <td>    0.034</td>\n",
       "</tr>\n",
       "<tr>\n",
       "  <th>ar.L3.D.Gold Investments</th> <td>   -0.0093</td> <td>    0.026</td> <td>   -0.354</td> <td> 0.723</td> <td>   -0.061</td> <td>    0.042</td>\n",
       "</tr>\n",
       "<tr>\n",
       "  <th>ar.L4.D.Gold Investments</th> <td>    0.1944</td> <td>    0.026</td> <td>    7.388</td> <td> 0.000</td> <td>    0.143</td> <td>    0.246</td>\n",
       "</tr>\n",
       "<tr>\n",
       "  <th>ar.L5.D.Gold Investments</th> <td>   -0.0133</td> <td>    0.027</td> <td>   -0.496</td> <td> 0.620</td> <td>   -0.066</td> <td>    0.039</td>\n",
       "</tr>\n",
       "<tr>\n",
       "  <th>ma.L1.D.Gold Investments</th> <td>   -0.9998</td> <td>    0.002</td> <td> -540.484</td> <td> 0.000</td> <td>   -1.003</td> <td>   -0.996</td>\n",
       "</tr>\n",
       "</table>\n",
       "<table class=\"simpletable\">\n",
       "<caption>Roots</caption>\n",
       "<tr>\n",
       "    <td></td>   <th>            Real</th>  <th>         Imaginary</th> <th>         Modulus</th>  <th>        Frequency</th>\n",
       "</tr>\n",
       "<tr>\n",
       "  <th>AR.1</th> <td>          -1.4637</td> <td>          -0.0000j</td> <td>           1.4637</td> <td>          -0.5000</td>\n",
       "</tr>\n",
       "<tr>\n",
       "  <th>AR.2</th> <td>          -0.0358</td> <td>          -1.4882j</td> <td>           1.4887</td> <td>          -0.2538</td>\n",
       "</tr>\n",
       "<tr>\n",
       "  <th>AR.3</th> <td>          -0.0358</td> <td>          +1.4882j</td> <td>           1.4887</td> <td>           0.2538</td>\n",
       "</tr>\n",
       "<tr>\n",
       "  <th>AR.4</th> <td>           1.5918</td> <td>          -0.0000j</td> <td>           1.5918</td> <td>          -0.0000</td>\n",
       "</tr>\n",
       "<tr>\n",
       "  <th>AR.5</th> <td>          14.5521</td> <td>          -0.0000j</td> <td>          14.5521</td> <td>          -0.0000</td>\n",
       "</tr>\n",
       "<tr>\n",
       "  <th>MA.1</th> <td>           1.0002</td> <td>          +0.0000j</td> <td>           1.0002</td> <td>           0.0000</td>\n",
       "</tr>\n",
       "</table>"
      ],
      "text/plain": [
       "<class 'statsmodels.iolib.summary.Summary'>\n",
       "\"\"\"\n",
       "                             ARIMA Model Results                              \n",
       "==============================================================================\n",
       "Dep. Variable:     D.Gold Investments   No. Observations:                 1387\n",
       "Model:                 ARIMA(5, 1, 1)   Log Likelihood                 772.797\n",
       "Method:                       css-mle   S.D. of innovations              0.138\n",
       "Date:                Sun, 01 Nov 2020   AIC                          -1529.593\n",
       "Time:                        17:03:21   BIC                          -1487.714\n",
       "Sample:                             1   HQIC                         -1513.931\n",
       "                                                                              \n",
       "============================================================================================\n",
       "                               coef    std err          z      P>|z|      [0.025      0.975]\n",
       "--------------------------------------------------------------------------------------------\n",
       "const                    -3.582e-06   1.07e-05     -0.334      0.738   -2.46e-05    1.74e-05\n",
       "ar.L1.D.Gold Investments    -0.0186      0.027     -0.691      0.489      -0.071       0.034\n",
       "ar.L2.D.Gold Investments    -0.0178      0.026     -0.677      0.499      -0.069       0.034\n",
       "ar.L3.D.Gold Investments    -0.0093      0.026     -0.354      0.723      -0.061       0.042\n",
       "ar.L4.D.Gold Investments     0.1944      0.026      7.388      0.000       0.143       0.246\n",
       "ar.L5.D.Gold Investments    -0.0133      0.027     -0.496      0.620      -0.066       0.039\n",
       "ma.L1.D.Gold Investments    -0.9998      0.002   -540.484      0.000      -1.003      -0.996\n",
       "                                    Roots                                    \n",
       "=============================================================================\n",
       "                  Real          Imaginary           Modulus         Frequency\n",
       "-----------------------------------------------------------------------------\n",
       "AR.1           -1.4637           -0.0000j            1.4637           -0.5000\n",
       "AR.2           -0.0358           -1.4882j            1.4887           -0.2538\n",
       "AR.3           -0.0358           +1.4882j            1.4887            0.2538\n",
       "AR.4            1.5918           -0.0000j            1.5918           -0.0000\n",
       "AR.5           14.5521           -0.0000j           14.5521           -0.0000\n",
       "MA.1            1.0002           +0.0000j            1.0002            0.0000\n",
       "-----------------------------------------------------------------------------\n",
       "\"\"\""
      ]
     },
     "execution_count": 13,
     "metadata": {},
     "output_type": "execute_result"
    }
   ],
   "source": [
    "results.summary()"
   ]
  },
  {
   "cell_type": "code",
   "execution_count": 14,
   "metadata": {},
   "outputs": [
    {
     "data": {
      "image/png": "[encoded data removed]",
      "text/plain": [
       "<Figure size 1500x400 with 1 Axes>"
      ]
     },
     "metadata": {
      "needs_background": "light"
     },
     "output_type": "display_data"
    }
   ],
   "source": [
    "fc, se, conf = results.forecast(596, alpha=0.05)  # 95% conf\n",
    "# Make as pandas series\n",
    "fc_series = pd.Series(fc, index=test_data.index)\n",
    "lower_series = pd.Series(conf[:, 0], index=test_data.index)\n",
    "upper_series = pd.Series(conf[:, 1], index=test_data.index)\n",
    "# Plot\n",
    "plt.figure(figsize=(15,4), dpi=100)\n",
    "plt.plot(train_data, label='training')\n",
    "plt.plot(test_data, label='actual')\n",
    "plt.plot(fc_series, label='forecast')\n",
    "plt.fill_between(lower_series.index, lower_series, \n",
    "                 color='k', alpha=.15)\n",
    "plt.title('Forecast vs Actuals')\n",
    "plt.legend(loc='upper left', fontsize=8)\n",
    "plt.show()"
   ]
  },
  {
   "cell_type": "code",
   "execution_count": 15,
   "metadata": {},
   "outputs": [
    {
     "name": "stdout",
     "output_type": "stream",
     "text": [
      "MSE: 0.019828077330809744\n",
      "MAE: 0.04310527910004959\n",
      "RMSE: 0.14081220590136972\n"
     ]
    }
   ],
   "source": [
    "import math\n",
    "from sklearn.metrics import mean_squared_error,mean_absolute_error\n",
    "mse = mean_squared_error(test_data, fc)\n",
    "print('MSE: '+str(mse))\n",
    "mae = mean_absolute_error(test_data, fc)\n",
    "print('MAE: '+str(mae))\n",
    "rmse = math.sqrt(mean_squared_error(test_data, fc))\n",
    "print('RMSE: '+str(rmse))"
   ]
  },
  {
   "cell_type": "code",
   "execution_count": 16,
   "metadata": {},
   "outputs": [
    {
     "data": {
      "text/plain": [
       "Date\n",
       "2015-07-09   -0.019937\n",
       "2015-07-10   -0.019053\n",
       "2015-07-13   -0.020570\n",
       "2015-07-14   -0.018232\n",
       "2015-07-15   -0.022652\n",
       "                ...   \n",
       "2017-11-09   -0.024807\n",
       "2017-11-10   -0.024811\n",
       "2017-11-13   -0.024814\n",
       "2017-11-14   -0.024818\n",
       "2017-11-15   -0.024821\n",
       "Length: 596, dtype: float64"
      ]
     },
     "execution_count": 16,
     "metadata": {},
     "output_type": "execute_result"
    }
   ],
   "source": [
    "fc_series"
   ]
  },
  {
   "cell_type": "code",
   "execution_count": 26,
   "metadata": {},
   "outputs": [],
   "source": [
    "from pandas.tseries.offsets import DateOffset\n",
    "future_dates=[df_gold.index[-1]+ DateOffset(months=x)for x in range(0,36)]"
   ]
  },
  {
   "cell_type": "code",
   "execution_count": 27,
   "metadata": {},
   "outputs": [],
   "source": [
    "df_gold_future=pd.DataFrame(index=future_dates[1:],columns=df_gold.columns)"
   ]
  },
  {
   "cell_type": "code",
   "execution_count": 28,
   "metadata": {},
   "outputs": [
    {
     "data": {
      "text/html": [
       "<div>\n",
       "<style scoped>\n",
       "    .dataframe tbody tr th:only-of-type {\n",
       "        vertical-align: middle;\n",
       "    }\n",
       "\n",
       "    .dataframe tbody tr th {\n",
       "        vertical-align: top;\n",
       "    }\n",
       "\n",
       "    .dataframe thead th {\n",
       "        text-align: right;\n",
       "    }\n",
       "</style>\n",
       "<table border=\"1\" class=\"dataframe\">\n",
       "  <thead>\n",
       "    <tr style=\"text-align: right;\">\n",
       "      <th></th>\n",
       "      <th>Gold Investments</th>\n",
       "    </tr>\n",
       "  </thead>\n",
       "  <tbody>\n",
       "    <tr>\n",
       "      <td>2020-06-15</td>\n",
       "      <td>NaN</td>\n",
       "    </tr>\n",
       "    <tr>\n",
       "      <td>2020-07-15</td>\n",
       "      <td>NaN</td>\n",
       "    </tr>\n",
       "    <tr>\n",
       "      <td>2020-08-15</td>\n",
       "      <td>NaN</td>\n",
       "    </tr>\n",
       "    <tr>\n",
       "      <td>2020-09-15</td>\n",
       "      <td>NaN</td>\n",
       "    </tr>\n",
       "    <tr>\n",
       "      <td>2020-10-15</td>\n",
       "      <td>NaN</td>\n",
       "    </tr>\n",
       "  </tbody>\n",
       "</table>\n",
       "</div>"
      ],
      "text/plain": [
       "           Gold Investments\n",
       "2020-06-15              NaN\n",
       "2020-07-15              NaN\n",
       "2020-08-15              NaN\n",
       "2020-09-15              NaN\n",
       "2020-10-15              NaN"
      ]
     },
     "execution_count": 28,
     "metadata": {},
     "output_type": "execute_result"
    }
   ],
   "source": [
    "df_gold_future.tail()"
   ]
  },
  {
   "cell_type": "code",
   "execution_count": 29,
   "metadata": {},
   "outputs": [
    {
     "data": {
      "text/plain": [
       "2017-12-15   -0.019937\n",
       "2018-01-15   -0.019053\n",
       "2018-02-15   -0.020570\n",
       "2018-03-15   -0.018232\n",
       "2018-04-15   -0.022652\n",
       "2018-05-15   -0.022137\n",
       "2018-06-15   -0.022400\n",
       "2018-07-15   -0.021891\n",
       "2018-08-15   -0.022794\n",
       "2018-09-15   -0.022628\n",
       "2018-10-15   -0.022681\n",
       "2018-11-15   -0.022575\n",
       "2018-12-15   -0.022763\n",
       "2019-01-15   -0.022720\n",
       "2019-02-15   -0.022734\n",
       "2019-03-15   -0.022715\n",
       "2019-04-15   -0.022756\n",
       "2019-05-15   -0.022748\n",
       "2019-06-15   -0.022754\n",
       "2019-07-15   -0.022753\n",
       "2019-08-15   -0.022764\n",
       "2019-09-15   -0.022765\n",
       "2019-10-15   -0.022769\n",
       "2019-11-15   -0.022772\n",
       "2019-12-15   -0.022777\n",
       "2020-01-15   -0.022780\n",
       "2020-02-15   -0.022783\n",
       "2020-03-15   -0.022787\n",
       "2020-04-15   -0.022791\n",
       "2020-05-15   -0.022794\n",
       "2020-06-15   -0.022798\n",
       "2020-07-15   -0.022801\n",
       "2020-08-15   -0.022805\n",
       "2020-09-15   -0.022808\n",
       "2020-10-15   -0.022812\n",
       "dtype: float64"
      ]
     },
     "execution_count": 29,
     "metadata": {},
     "output_type": "execute_result"
    }
   ],
   "source": [
    "fc1, se1, conf1 = results.forecast(35, alpha=0.05)  # 95% confidence\n",
    "fc1_series = pd.Series(fc1, index=df_gold_future.index)\n",
    "fc1_series"
   ]
  },
  {
   "cell_type": "code",
   "execution_count": 30,
   "metadata": {},
   "outputs": [
    {
     "data": {
      "text/plain": [
       "<matplotlib.axes._subplots.AxesSubplot at 0x2784d18eb48>"
      ]
     },
     "execution_count": 30,
     "metadata": {},
     "output_type": "execute_result"
    },
    {
     "data": {
      "image/png": "[encoded data removed]",
      "text/plain": [
       "<Figure size 432x288 with 1 Axes>"
      ]
     },
     "metadata": {
      "needs_background": "light"
     },
     "output_type": "display_data"
    }
   ],
   "source": [
    "fc1_series.plot()"
   ]
  },
  {
   "cell_type": "code",
   "execution_count": null,
   "metadata": {},
   "outputs": [],
   "source": []
  }
 ],
 "metadata": {
  "kernelspec": {
   "display_name": "Python 3",
   "language": "python",
   "name": "python3"
  },
  "language_info": {
   "codemirror_mode": {
    "name": "ipython",
    "version": 3
   },
   "file_extension": ".py",
   "mimetype": "text/x-python",
   "name": "python",
   "nbconvert_exporter": "python",
   "pygments_lexer": "ipython3",
   "version": "3.7.4"
  }
 },
 "nbformat": 4,
 "nbformat_minor": 2
}
