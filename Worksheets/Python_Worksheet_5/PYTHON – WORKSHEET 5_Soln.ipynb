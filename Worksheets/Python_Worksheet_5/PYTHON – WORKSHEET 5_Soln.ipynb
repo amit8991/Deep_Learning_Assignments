{
 "cells": [
  {
   "cell_type": "code",
   "execution_count": 1,
   "metadata": {},
   "outputs": [
    {
     "name": "stdout",
     "output_type": "stream",
     "text": [
      "Square of elements in list\n"
     ]
    },
    {
     "data": {
      "text/plain": [
       "[1, 4, 9, 16, 25, 36]"
      ]
     },
     "execution_count": 1,
     "metadata": {},
     "output_type": "execute_result"
    }
   ],
   "source": [
    "#12.write a python program to square the elements of a list by using list comprehension.\n",
    "list1=[1,2,3,4,5,6] \n",
    "print(\"Square of elements in list\")\n",
    "[i**2 for i in list1] "
   ]
  },
  {
   "cell_type": "code",
   "execution_count": 2,
   "metadata": {},
   "outputs": [
    {
     "name": "stdout",
     "output_type": "stream",
     "text": [
      "[1, 2, 3, 4, 6, 7]\n"
     ]
    }
   ],
   "source": [
    "#13.Write a python program to drop duplicate elements from a list of numbers.\n",
    "\n",
    "def remove(duplicate):\n",
    "    final_list=[]\n",
    "    for num in duplicate:\n",
    "        if num not in final_list:\n",
    "            final_list.append(num)\n",
    "    return final_list\n",
    "\n",
    "duplicate = [1,1,2,3,4,4,6,7,7] \n",
    "print(remove(duplicate)) "
   ]
  },
  {
   "cell_type": "code",
   "execution_count": 3,
   "metadata": {},
   "outputs": [
    {
     "name": "stdout",
     "output_type": "stream",
     "text": [
      "Union : {0, 1, 2, 3, 4, 5, 6, 7, 8, 9, 10}\n",
      "Intersection : {8, 2, 4, 6}\n",
      "Difference : {1, 3, 5, 7, 9}\n",
      "Symmetric difference : {0, 1, 3, 5, 7, 9, 10}\n"
     ]
    }
   ],
   "source": [
    "#14.Take two sets of numbers and try implementing the set operations - intersection, union, difference and symmetric_difference between them\n",
    "A ={1,2,3,4,5,6,7,8,9}\n",
    "B ={0,2,4,6,8,10}\n",
    "\n",
    "print(\"Union :\", A|B)\n",
    "\n",
    "print(\"Intersection :\", A&B)\n",
    "\n",
    "print(\"Difference :\",A-B)\n",
    "\n",
    "print(\"Symmetric difference :\", A^B)"
   ]
  },
  {
   "cell_type": "code",
   "execution_count": 4,
   "metadata": {},
   "outputs": [
    {
     "name": "stdout",
     "output_type": "stream",
     "text": [
      "{'b', 'e', 'a', 'f', 'c', 'd'}\n"
     ]
    }
   ],
   "source": [
    "#15. Write a python program to add the elements of a set.\n",
    "\n",
    "A = {'a','b','c','d','e'}\n",
    "A.add('f')\n",
    "\n",
    "print(A)"
   ]
  },
  {
   "cell_type": "code",
   "execution_count": null,
   "metadata": {},
   "outputs": [],
   "source": []
  }
 ],
 "metadata": {
  "kernelspec": {
   "display_name": "Python 3",
   "language": "python",
   "name": "python3"
  },
  "language_info": {
   "codemirror_mode": {
    "name": "ipython",
    "version": 3
   },
   "file_extension": ".py",
   "mimetype": "text/x-python",
   "name": "python",
   "nbconvert_exporter": "python",
   "pygments_lexer": "ipython3",
   "version": "3.7.4"
  }
 },
 "nbformat": 4,
 "nbformat_minor": 2
}
