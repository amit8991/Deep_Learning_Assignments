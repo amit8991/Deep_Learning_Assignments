{
 "cells": [
  {
   "cell_type": "markdown",
   "metadata": {},
   "source": [
    "#4. Write a python program to scrap book name, author name, genre and book review of 5 books from‘www.bookpage.com’"
   ]
  },
  {
   "cell_type": "code",
   "execution_count": 3,
   "metadata": {},
   "outputs": [
    {
     "data": {
      "text/plain": [
       "<div class=\"row-fluid article-row\">\n",
       "<div class=\"bp-block article-info\">\n",
       "<div class=\"article-multi-list-left\">\n",
       "<div class=\"multi-book-preview-item\">\n",
       "<a href=\"/features/25679-tips-teachers-serendipitous-friendships-childrens\"><img alt=\"Starcrossed by Julia Denos book cover\" class=\"\" src=\"https://t1.bookpage.com/books/images/96e71ef490d2efdf6e5045c1e8f62a38/medium.jpg\"/></a>\n",
       "</div>\n",
       "<div class=\"multi-book-preview-item hidden-phone\">\n",
       "<a href=\"/features/25679-tips-teachers-serendipitous-friendships-childrens\"><img alt=\"Neighbors by Kasya Denisevich book cover\" class=\"\" src=\"https://t1.bookpage.com/books/images/58761bcf058bcebb880071d795c3afb7/medium.jpg\"/></a>\n",
       "</div>\n",
       "<div class=\"multi-book-preview-item hidden-phone\">\n",
       "<a href=\"/features/25679-tips-teachers-serendipitous-friendships-childrens\"><img alt=\"Nothing in Common by Kate Hoefler book cover\" class=\"\" src=\"https://t1.bookpage.com/books/images/4f253bfa33345c89c9a44c57902f052c/medium.jpg\"/></a>\n",
       "</div>\n",
       "</div>\n",
       "<div class=\"flex-article-content\">\n",
       "<h4 class=\"italic\">\n",
       "<a href=\"/features/25679-tips-teachers-serendipitous-friendships-childrens\">Tips for Teachers: Serendipitous friendships</a>\n",
       "</h4>\n",
       "<p class=\"sans bold\">\n",
       "Feature by Emmie Stuart\n",
       "</p>\n",
       "<p class=\"genre-links hidden-phone\">\n",
       "<a href=\"/search?book_genre=children_s\">Children's</a>\n",
       " / \n",
       "<a href=\"/search?book_genre=children_s_picture_book\">Children's Picture Book</a>\n",
       "</p>\n",
       "<p class=\"excerpt\">\n",
       "Experienced teacher and children’s librarian Emmie Stuart shares three picture books about the joys of unexpected friendship and suggests activities to incorporate them into the classroom.\n",
       "</p>\n",
       "<div class=\"read-full\">\n",
       "<a href=\"/features/25679-tips-teachers-serendipitous-friendships-childrens\">Read the Feature <i class=\"zmdi zmdi-chevron-right\"></i></a>\n",
       "</div>\n",
       "</div>\n",
       "<br class=\"clear\"/>\n",
       "</div>\n",
       "</div>"
      ]
     },
     "execution_count": 3,
     "metadata": {},
     "output_type": "execute_result"
    }
   ],
   "source": [
    "from bs4 import BeautifulSoup\n",
    "import requests\n",
    "import re\n",
    "\n",
    "url = 'https://bookpage.com/features'\n",
    "response = requests.get(url)\n",
    "soup = BeautifulSoup(response.text, 'lxml')\n",
    "\n",
    "books = soup.find_all(attrs={'class':'row-fluid article-row'})\n",
    "len(books)\n",
    "\n",
    "first_book = books[0]\n",
    "first_book\n"
   ]
  },
  {
   "cell_type": "code",
   "execution_count": 4,
   "metadata": {},
   "outputs": [
    {
     "data": {
      "text/html": [
       "<div>\n",
       "<style scoped>\n",
       "    .dataframe tbody tr th:only-of-type {\n",
       "        vertical-align: middle;\n",
       "    }\n",
       "\n",
       "    .dataframe tbody tr th {\n",
       "        vertical-align: top;\n",
       "    }\n",
       "\n",
       "    .dataframe thead th {\n",
       "        text-align: right;\n",
       "    }\n",
       "</style>\n",
       "<table border=\"1\" class=\"dataframe\">\n",
       "  <thead>\n",
       "    <tr style=\"text-align: right;\">\n",
       "      <th></th>\n",
       "      <th>Book Name</th>\n",
       "      <th>Author</th>\n",
       "      <th>Genre</th>\n",
       "      <th>Review</th>\n",
       "    </tr>\n",
       "  </thead>\n",
       "  <tbody>\n",
       "    <tr>\n",
       "      <td>0</td>\n",
       "      <td>Tips for Teachers: Serendipitous friendships</td>\n",
       "      <td>Emmie Stuart</td>\n",
       "      <td>Children's</td>\n",
       "      <td>Experienced teacher and children’s librarian E...</td>\n",
       "    </tr>\n",
       "    <tr>\n",
       "      <td>1</td>\n",
       "      <td>Celebrate the joy of working together for a gr...</td>\n",
       "      <td>Alice Cary</td>\n",
       "      <td>Children's Picture Book</td>\n",
       "      <td>Two picture books inspired by real-life commun...</td>\n",
       "    </tr>\n",
       "    <tr>\n",
       "      <td>2</td>\n",
       "      <td>Short fiction that captures big fears</td>\n",
       "      <td>Eric Ponce</td>\n",
       "      <td>Fiction</td>\n",
       "      <td>When you get goosebumps or have to avert your ...</td>\n",
       "    </tr>\n",
       "    <tr>\n",
       "      <td>3</td>\n",
       "      <td>Graphic novels capture middle school in graphi...</td>\n",
       "      <td>Linda M. Castellitto</td>\n",
       "      <td>Middle Grade</td>\n",
       "      <td>Two middle grade graphic novels navigate the h...</td>\n",
       "    </tr>\n",
       "    <tr>\n",
       "      <td>4</td>\n",
       "      <td>Tales as old as time, made new</td>\n",
       "      <td>Jill Ratzan</td>\n",
       "      <td>YA</td>\n",
       "      <td>What makes a fairy tale? Is it the presence of...</td>\n",
       "    </tr>\n",
       "  </tbody>\n",
       "</table>\n",
       "</div>"
      ],
      "text/plain": [
       "                                           Book Name                Author  \\\n",
       "0       Tips for Teachers: Serendipitous friendships          Emmie Stuart   \n",
       "1  Celebrate the joy of working together for a gr...            Alice Cary   \n",
       "2              Short fiction that captures big fears            Eric Ponce   \n",
       "3  Graphic novels capture middle school in graphi...  Linda M. Castellitto   \n",
       "4                     Tales as old as time, made new           Jill Ratzan   \n",
       "\n",
       "                     Genre                                             Review  \n",
       "0               Children's  Experienced teacher and children’s librarian E...  \n",
       "1  Children's Picture Book  Two picture books inspired by real-life commun...  \n",
       "2                  Fiction  When you get goosebumps or have to avert your ...  \n",
       "3             Middle Grade  Two middle grade graphic novels navigate the h...  \n",
       "4                       YA  What makes a fairy tale? Is it the presence of...  "
      ]
     },
     "execution_count": 4,
     "metadata": {},
     "output_type": "execute_result"
    }
   ],
   "source": [
    "book_name=[]\n",
    "author_name=[]\n",
    "genre_name=[]\n",
    "book_review=[]\n",
    "\n",
    "for index in range(0, 5):\n",
    "    soup = books[index]\n",
    "    book_name.append(soup.find(\"h4\",class_=\"italic\").a.text)\n",
    "    author_name.append(soup.find(\"p\",class_=\"sans bold\").text[12:].strip())\n",
    "    genre_name.append(soup.find(\"p\",class_=\"genre-links hidden-phone\").a.text)\n",
    "    book_review.append(soup.find(\"p\",class_=re.compile(\"excerpt\")).text.strip())\n",
    "    \n",
    "\n",
    "import pandas as pd\n",
    "scraped_data = pd.DataFrame({'Book Name': book_name, 'Author': author_name, 'Genre': genre_name, \"Review\": book_review})\n",
    "scraped_data"
   ]
  },
  {
   "cell_type": "code",
   "execution_count": null,
   "metadata": {},
   "outputs": [],
   "source": []
  }
 ],
 "metadata": {
  "kernelspec": {
   "display_name": "Python 3",
   "language": "python",
   "name": "python3"
  },
  "language_info": {
   "codemirror_mode": {
    "name": "ipython",
    "version": 3
   },
   "file_extension": ".py",
   "mimetype": "text/x-python",
   "name": "python",
   "nbconvert_exporter": "python",
   "pygments_lexer": "ipython3",
   "version": "3.7.4"
  }
 },
 "nbformat": 4,
 "nbformat_minor": 2
}
