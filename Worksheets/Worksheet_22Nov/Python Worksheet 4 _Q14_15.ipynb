{
 "cells": [
  {
   "cell_type": "code",
   "execution_count": 1,
   "metadata": {},
   "outputs": [
    {
     "name": "stdout",
     "output_type": "stream",
     "text": [
      "Enter a number 153\n",
      "153 is an Armstrong number\n"
     ]
    }
   ],
   "source": [
    "#15.Write a python program to determine whether the number entered by the user is an Armstrong number or not\n",
    "num = int(input(\"Enter a number \"))\n",
    "sum = 0\n",
    "\n",
    "temp = num\n",
    "while temp>0:\n",
    "    digit = temp%10\n",
    "    sum = sum+digit**3\n",
    "    temp =temp//10\n",
    "    \n",
    "if num==sum:\n",
    "    print(num,\"is an Armstrong number\")\n",
    "else:\n",
    "    print(num,\"is not an Armstrong number\")"
   ]
  },
  {
   "cell_type": "code",
   "execution_count": 7,
   "metadata": {},
   "outputs": [],
   "source": [
    "#14.Write a python program to represent a user entered number in expanded form\n",
    "def expandNumber(num):\n",
    "    digits = str(num) # convert number to string\n",
    "    output = []\n",
    "    for i, digit in enumerate(digits):\n",
    "        output.append(\"(\" + digit + \"x10^\" + str(len(digits)-i-1) + \")\")\n",
    "    return \" + \".join(output)"
   ]
  },
  {
   "cell_type": "code",
   "execution_count": 8,
   "metadata": {},
   "outputs": [
    {
     "name": "stdout",
     "output_type": "stream",
     "text": [
      "(1x10^4) + (2x10^3) + (3x10^2) + (4x10^1) + (5x10^0)\n"
     ]
    }
   ],
   "source": [
    "a=expandNumber(12345)\n",
    "print(a)"
   ]
  },
  {
   "cell_type": "code",
   "execution_count": null,
   "metadata": {},
   "outputs": [],
   "source": []
  }
 ],
 "metadata": {
  "kernelspec": {
   "display_name": "Python 3",
   "language": "python",
   "name": "python3"
  },
  "language_info": {
   "codemirror_mode": {
    "name": "ipython",
    "version": 3
   },
   "file_extension": ".py",
   "mimetype": "text/x-python",
   "name": "python",
   "nbconvert_exporter": "python",
   "pygments_lexer": "ipython3",
   "version": "3.7.4"
  }
 },
 "nbformat": 4,
 "nbformat_minor": 2
}
